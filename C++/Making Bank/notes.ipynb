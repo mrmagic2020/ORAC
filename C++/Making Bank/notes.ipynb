{
 "cells": [
  {
   "cell_type": "markdown",
   "metadata": {},
   "source": [
    "https://orac2.info/problem/aio23bank/\n",
    "\n",
    "使用 **“贪心算法“**"
   ]
  }
 ],
 "metadata": {
  "kernelspec": {
   "display_name": "C++11",
   "language": "C++11",
   "name": "xcpp11"
  },
  "language_info": {
   "name": "C++11"
  }
 },
 "nbformat": 4,
 "nbformat_minor": 2
}
